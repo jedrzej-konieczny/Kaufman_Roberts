{
 "cells": [
  {
   "cell_type": "code",
   "execution_count": 75,
   "metadata": {},
   "outputs": [
    {
     "name": "stdout",
     "output_type": "stream",
     "text": [
      "M =  2\n",
      "V =  3\n",
      "a = [0.4, 1]\n",
      "t0 = 1\n",
      "t1 = 2\n",
      "X0 = 1\n",
      "X1 = 0.4\n",
      "X2 = 1.08\n",
      "X3 = 0.41066666666666674\n",
      "P0 = 0.3459409594095941\n",
      "P1 = 0.13837638376383762\n",
      "P2 = 0.3736162361623616\n",
      "P3 = 0.14206642066420666\n",
      "Prawdopodobienstwo blokady strumienia zgłoszen klasy (i = 1) = 0.14206642066420666\n"
     ]
    }
   ],
   "source": [
    "def calc_x(V,M,a,t):    # x0,x1,x2,x3\n",
    "    X=[1]*(V+1)\t        #[1, 1, 1, 1]\n",
    "    for n in range(1,V+1):\n",
    "        sum=0\n",
    "        for i in range(0,M):\n",
    "            if n>=t[i]:\n",
    "                sum+=a[i]*t[i]*X[n-t[i]]\n",
    "            X[n]=sum/n\n",
    "    return X\n",
    "\n",
    "\n",
    "def calc_po(X):\n",
    "\tsum=0\n",
    "\tfor item in X:\n",
    "\t\tsum+=item\n",
    "\treturn 1/sum\n",
    "\n",
    "def calc_pn(X,V,M,a,t):\n",
    "\t#P=[1]*(V+1)\n",
    "\tP[0]=calc_po(X)\n",
    "\tfor n in range(1, V+1):\n",
    "\t\tP[n] = P[0]*X[n]\n",
    "\treturn P\n",
    "\n",
    "def calc_b(V,P,t,i=1):\n",
    "\tsum=0\n",
    "\tfor n in range(V-t[i-1]+1, V+1):\n",
    "\t\tsum+=P[n]\n",
    "\treturn sum\n",
    "\t\n",
    "\n",
    "V=3#pojemnosc wiazki wyrazona w kanalach lub podstawowych jednostkach pasma\n",
    "M=2 #strumienie ruchu\n",
    "t=[1,2]#liczba zad. jedn. przetwarzania\n",
    "a=[0.4,1]\n",
    "X=calc_x(V,M,a,t)\n",
    "P=calc_pn(X,V,M,a,t)#prawdopodobienstwa znalezienia sie wiazki doskonalej w stanie zajetosci n kanalów P(n)\n",
    "#i=1\n",
    "#a=[[0.4,1],[0.5,0.8],[0.6,1],[0.4,0.6],[0.6,0.7]]\n",
    "\n",
    "print(\"M = \", M)\n",
    "print(\"V = \", V)\n",
    "print('a = '+str(item_a))\n",
    "count = 0\n",
    "for item_t in t:\n",
    "\tprint('t'+str(count)+' = '+str(item_t))\n",
    "\tcount+=1\n",
    "count = 0\n",
    "for item_X in X:\n",
    "\tprint('X'+str(count)+' = '+str(item_X))\n",
    "\tcount+=1\n",
    "count = 0\n",
    "for item_P in P:\n",
    "\tprint('P'+str(count)+' = '+str(item_P))\n",
    "\tcount+=1\n",
    "#print(\"P = \", P)\n",
    "print(\"Prawdopodobienstwo blokady strumienia zgłoszen klasy (i = 1) =\", calc_b(V,P,t))\n",
    "\n",
    "\n",
    "#def calc_all(V,M,t,a,i=1):\n",
    "#\tcalc_x(V,M,a,t)\n",
    "#\tX=calc_x(V,M,a,t)\n",
    "#\tP=calc_pn(X,V,M,a,t)\n",
    "#\t#calc_po(X)\n",
    "#\t#calc_pn(X,V,M,a,t)\n",
    "#\tcalc_b(V,P,t,i=1)\n",
    "\n",
    "#for item_a in a:\n",
    "#    print('ai = '+str(item_a))\n",
    "#    for item_t in t:\n",
    "#        print('ti = '+str(item_t))\n",
    "#    print(calc_all(V, M, t, item_a))\n",
    "\n"
   ]
  }
 ],
 "metadata": {
  "kernelspec": {
   "display_name": "Python 3.10.0 64-bit",
   "language": "python",
   "name": "python3"
  },
  "language_info": {
   "codemirror_mode": {
    "name": "ipython",
    "version": 3
   },
   "file_extension": ".py",
   "mimetype": "text/x-python",
   "name": "python",
   "nbconvert_exporter": "python",
   "pygments_lexer": "ipython3",
   "version": "3.10.0"
  },
  "orig_nbformat": 4,
  "vscode": {
   "interpreter": {
    "hash": "26de051ba29f2982a8de78e945f0abaf191376122a1563185a90213a26c5da77"
   }
  }
 },
 "nbformat": 4,
 "nbformat_minor": 2
}
