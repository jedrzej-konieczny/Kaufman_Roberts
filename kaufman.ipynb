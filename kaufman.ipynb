{
 "cells": [
  {
   "cell_type": "code",
   "execution_count": 12,
   "metadata": {},
   "outputs": [],
   "source": [
    "import numpy as np\n",
    "\n",
    "n=2\n",
    "M=2\n",
    "ai=1\n",
    "ti=1\n",
    "xn=ai\n",
    "\n",
    "V=2\n",
    "\n",
    "def sigma(func, frm, to):\n",
    "    result = 0;\n",
    "    for i in range(frm, to+1):\n",
    "        result += func(i)\n",
    "    return result\n",
    "\n",
    "def P(n):\n",
    "    if n == 0:\n",
    "        return 1/sigma(xn, 0, V)\n",
    "    else:\n",
    "        return sigma(ai*ti*P(n-ti), 1, M)/n\n",
    "\n",
    "def b(i):\n",
    "    return sigma(P(n),V-ti+1,V)\n",
    "\n",
    "\n",
    "#f = open(\"Results.txt\", \"w\")\n",
    "#f.write(\"A[i] = \"+np.array2string(A))\n",
    "#f.write(\"\\nP[n] = \"+str(p))\n",
    "#f.write(\"\\nX[i] = \"+str(X))\n",
    "#f.close()"
   ]
  }
 ],
 "metadata": {
  "kernelspec": {
   "display_name": "Python 3.10.0 64-bit",
   "language": "python",
   "name": "python3"
  },
  "language_info": {
   "codemirror_mode": {
    "name": "ipython",
    "version": 3
   },
   "file_extension": ".py",
   "mimetype": "text/x-python",
   "name": "python",
   "nbconvert_exporter": "python",
   "pygments_lexer": "ipython3",
   "version": "3.10.0"
  },
  "orig_nbformat": 4,
  "vscode": {
   "interpreter": {
    "hash": "26de051ba29f2982a8de78e945f0abaf191376122a1563185a90213a26c5da77"
   }
  }
 },
 "nbformat": 4,
 "nbformat_minor": 2
}
